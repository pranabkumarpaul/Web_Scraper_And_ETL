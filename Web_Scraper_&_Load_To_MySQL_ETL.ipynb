{
 "cells": [
  {
   "cell_type": "markdown",
   "id": "2081f444",
   "metadata": {},
   "source": [
    "# Scrap Data From [ClinicalTrials](https://clinicaltrials.gov) & Load To MySQL DB\n",
    "## [API](https://www.clinicaltrials.gov/api/gui/home) , [Data](https://clinicaltrials.gov/ct2/results)"
   ]
  },
  {
   "cell_type": "markdown",
   "id": "c527f3e4",
   "metadata": {},
   "source": [
    " "
   ]
  },
  {
   "cell_type": "markdown",
   "id": "9be465da",
   "metadata": {},
   "source": [
    "## Library"
   ]
  },
  {
   "cell_type": "code",
   "execution_count": 1,
   "id": "61952705",
   "metadata": {},
   "outputs": [],
   "source": [
    "# !pip install requests"
   ]
  },
  {
   "cell_type": "code",
   "execution_count": 2,
   "id": "f0aeffa3",
   "metadata": {},
   "outputs": [
    {
     "name": "stdout",
     "output_type": "stream",
     "text": [
      "Json Version:- 2.0.9\n",
      "MySQL Version:- 1.0.2\n",
      "Request Version:- 2.26.0\n",
      "Numpy Version:- 1.23.1\n",
      "Pandas Version:- 1.3.4\n"
     ]
    }
   ],
   "source": [
    "import re\n",
    "import json\n",
    "import pymysql\n",
    "import requests\n",
    "import numpy as np\n",
    "import pandas as pd\n",
    "from bs4 import BeautifulSoup\n",
    "\n",
    "print(f\"Json Version:- {json.__version__}\")        # 2.0.9\n",
    "print(f\"MySQL Version:- {pymysql.__version__}\")    # 1.0.2\n",
    "print(f\"Request Version:- {requests.__version__}\") # 2.26.0\n",
    "print(f\"Numpy Version:- {np.__version__}\")         # 1.23.1\n",
    "print(f\"Pandas Version:- {pd.__version__}\")        # 1.3.4"
   ]
  },
  {
   "cell_type": "markdown",
   "id": "12c7fa6c",
   "metadata": {},
   "source": [
    "## User Input"
   ]
  },
  {
   "cell_type": "code",
   "execution_count": 3,
   "id": "484658ad",
   "metadata": {},
   "outputs": [],
   "source": [
    "### Fields To Scrape\n",
    "Field_List = [\"NCTId\", \"BriefTitle\", \"Condition\", \"StudyType\", \"LeadSponsorName\", \"OrgFullName\", \"EnrollmentCount\"]\n",
    "\n",
    "SQL_CLM = \"Row_No, NCT_Id, Study_Title, `Condition`, Study_Type, Sponsor_Name, OrgFullName, Number_Enrolled\"\n",
    "\n",
    "### API Prefix\n",
    "API_Prefix = \"https://www.clinicaltrials.gov/api/query/study_fields?\"\n",
    "\n",
    "Max_Scrape_Limit = 1000\n",
    "\n",
    "### MySQL Credential\n",
    "MySQL_Endpoint = \"127.0.0.1\"\n",
    "MySQL_Port = \"3306\"\n",
    "MySQL_UserName = \"root\"\n",
    "MySQL_Password = \"MySql@1234\"\n",
    "MySQL_DataBase = \"clinical_studies\"\n",
    "\n",
    "Schema = \"clinical_studies\"\n",
    "Table = \"land_clinical_trials\""
   ]
  },
  {
   "cell_type": "markdown",
   "id": "c0f452d0",
   "metadata": {},
   "source": [
    "### DataBaseTable to Store Data\n",
    "\n",
    "**CREATE SCHEMA** clinical_studies;\n",
    "\n",
    "**USE** clinical_studies;\n",
    "\n",
    "**CREATE TABLE IF NOT EXISTS** clinical_studies.land_clinical_trials(<br>\n",
    "&emsp;&emsp;Row_No **BIGINT** , NCT_Id **VARCHAR**(100), <br>\n",
    "&emsp;&emsp;Study_Title **VARCHAR**(12000), `Condition` **VARCHAR**(31000), <br>\n",
    "&emsp;&emsp;Study_Type **VARCHAR**(700), Sponsor_Name **VARCHAR**(11000), <br>\n",
    "&emsp;&emsp;OrgFullName **VARCHAR**(10700), Number_Enrolled **int** ) CHARACTER SET latin1 **;**"
   ]
  },
  {
   "cell_type": "markdown",
   "id": "d822f104",
   "metadata": {},
   "source": [
    "### Create MySQL Connection"
   ]
  },
  {
   "cell_type": "code",
   "execution_count": 4,
   "id": "46f63e44",
   "metadata": {},
   "outputs": [],
   "source": [
    "MySQL_Connection = pymysql.connect(host= MySQL_Endpoint, \n",
    "                                   user= MySQL_UserName, \n",
    "                                   password= MySQL_Password, \n",
    "                                   db= MySQL_DataBase)\n",
    "\n",
    "MySQL_Cursor = MySQL_Connection.cursor()\n",
    "\n",
    "# Connection_STR = create_engine(f\"mysql+pymysql://{MySQL_UserName}:{MySQL_Password}@{MySQL_Endpoint}/{MySQL_DataBase}\")\n",
    "# Connection    = Connection_STR.connect()"
   ]
  },
  {
   "cell_type": "markdown",
   "id": "fe03ed25",
   "metadata": {},
   "source": [
    "## UDF"
   ]
  },
  {
   "cell_type": "code",
   "execution_count": 5,
   "id": "75fb1927",
   "metadata": {},
   "outputs": [],
   "source": [
    "def Create_Chunk_Range(Total_Row_No_ , Chunk_Size_):\n",
    "    Chunk_Breakup_ = [i for i in range(0,Total_Row_No_,Chunk_Size_)]\n",
    "    Chunk_Breakup_.append(Total_Row_No_)\n",
    "    \n",
    "    Chunk_Range_ = [(Chunk_Breakup_[i]+1 , \"to\" , Chunk_Breakup_[i+1]) for i in range(len(Chunk_Breakup_)-1)]\n",
    "    \n",
    "    return Chunk_Range_"
   ]
  },
  {
   "cell_type": "code",
   "execution_count": 6,
   "id": "ff762609",
   "metadata": {},
   "outputs": [],
   "source": [
    "def Data_Preparation(Record_):\n",
    "    \n",
    "    def Clean_Data(STR_):\n",
    "        Clean_1 = re.sub(r'[^a-z A-Z |0|1|2|3|4|5|6|7|8|9| ,|?|$|.|!|:]',r'',STR_)\n",
    "        return re.sub(r' +', ' ', Clean_1)\n",
    "    \n",
    "    Temp_Dict_ = {}\n",
    "    Temp_Dict_.update({'Rank':int(Record_['Rank']),\n",
    "                     'NCTId':str(Record_['NCTId'][0]),\n",
    "                     'BriefTitle':Clean_Data(STR_ = str(\", \".join(Record_['BriefTitle']))),\n",
    "                     'Condition':Clean_Data(STR_ = str(\", \".join(Record_['Condition']))),\n",
    "                     'StudyType':Clean_Data(STR_ = str(\", \".join(Record_['StudyType']))),\n",
    "                     'LeadSponsorName':Clean_Data(STR_ = str(\", \".join(Record_['LeadSponsorName']))),\n",
    "                     'OrgFullName':Clean_Data(STR_ = str(\", \".join(Record_['OrgFullName'])))  })\n",
    "\n",
    "    if len(Record_['EnrollmentCount']) == 0:\n",
    "        Temp_Dict_.update({'EnrollmentCount':0})\n",
    "    else:\n",
    "        Temp_Dict_.update({'EnrollmentCount':int(Record_['EnrollmentCount'][0])})\n",
    "        \n",
    "    return Temp_Dict_"
   ]
  },
  {
   "cell_type": "markdown",
   "id": "792f43ff",
   "metadata": {},
   "source": [
    "## Scrape & Get Data"
   ]
  },
  {
   "cell_type": "code",
   "execution_count": 7,
   "id": "2a0aa445",
   "metadata": {
    "scrolled": true
   },
   "outputs": [
    {
     "name": "stdout",
     "output_type": "stream",
     "text": [
      "Total Number Of Records - 425817\n",
      "\n",
      "### Printing Few Chunk Range. Total Chunk 426\n",
      "[(1, 'to', 1000), (1001, 'to', 2000), (2001, 'to', 3000), (3001, 'to', 4000), (4001, 'to', 5000)]  .....\n",
      "\n",
      "Successfully Load Chunk (1, 'to', 1000)\n",
      "Successfully Load Chunk (1001, 'to', 2000)\n",
      "Successfully Load Chunk (2001, 'to', 3000)\n",
      "Successfully Load Chunk (3001, 'to', 4000)\n",
      "Successfully Load Chunk (4001, 'to', 5000)\n",
      "Successfully Load Chunk (5001, 'to', 6000)\n",
      "Successfully Load Chunk (6001, 'to', 7000)\n",
      "Successfully Load Chunk (7001, 'to', 8000)\n",
      "Successfully Load Chunk (8001, 'to', 9000)\n",
      "Successfully Load Chunk (9001, 'to', 10000)\n",
      "Successfully Load Chunk (10001, 'to', 11000)\n",
      "Successfully Load Chunk (11001, 'to', 12000)\n",
      "Successfully Load Chunk (12001, 'to', 13000)\n",
      "Successfully Load Chunk (13001, 'to', 14000)\n",
      "Successfully Load Chunk (14001, 'to', 15000)\n",
      "Successfully Load Chunk (15001, 'to', 16000)\n",
      "Successfully Load Chunk (16001, 'to', 17000)\n",
      "Successfully Load Chunk (17001, 'to', 18000)\n",
      "Successfully Load Chunk (18001, 'to', 19000)\n",
      "Successfully Load Chunk (19001, 'to', 20000)\n",
      "\n",
      "All Done !!! \n",
      "Total Chunk Load 20\n"
     ]
    }
   ],
   "source": [
    "### Get Total Number Of Records\n",
    "Res = requests.get(f\"{API_Prefix}fmt=json\")\n",
    "Total_Records_Found = json.loads(Res.content.decode())['StudyFieldsResponse']['NStudiesFound']\n",
    "print(f\"Total Number Of Records - {Total_Records_Found}\\n\")\n",
    "\n",
    "### Get Data Chunk Row Number, As Limitation For Each Chunk Is 1000\n",
    "Chunk_Range = Create_Chunk_Range(Total_Row_No_ = Total_Records_Found, Chunk_Size_ = Max_Scrape_Limit)\n",
    "print(f\"### Printing Few Chunk Range. Total Chunk {len(Chunk_Range)}\")\n",
    "print(Chunk_Range[:5],\" .....\\n\")\n",
    "\n",
    "### Scrape & Get Data\n",
    "Count = 0\n",
    "Error_Dict = []\n",
    "R_Field_List = \", \".join(Field_List)\n",
    "\n",
    "for Each_Chunk_Range in Chunk_Range:\n",
    "    Res = requests.get(f\"{API_Prefix}fields={R_Field_List}&min_rnk={Each_Chunk_Range[0]}&max_rnk={Each_Chunk_Range[2]}&fmt=json\")\n",
    "    Data = json.loads(Res.content.decode())\n",
    "    Data = Data['StudyFieldsResponse']['StudyFields']\n",
    "    \n",
    "    SQL_Val_List = []\n",
    "    for Each_Record in Data:        \n",
    "        Temp_Dict= Data_Preparation(Record_= Each_Record)        \n",
    "        SQL_Val_List.append(str(tuple(Temp_Dict.values())))    \n",
    "        del Temp_Dict\n",
    "        \n",
    "    try:\n",
    "        SQL_Insert_Query = f\"INSERT INTO {Schema}.{Table} ({SQL_CLM}) VALUES {', '.join(SQL_Val_List)}\"\n",
    "        MySQL_Cursor.execute(SQL_Insert_Query)\n",
    "        MySQL_Connection.commit()\n",
    "        \n",
    "        Count += 1\n",
    "        print(f\"Successfully Load Chunk {Each_Chunk_Range}\")\n",
    "    except Exception as e:\n",
    "        print(f\"\\n### Failed To Load Chunk {Each_Chunk_Range} ###\")\n",
    "        MySQL_Connection.rollback()\n",
    "        Error_Dict.append(Each_Chunk_Range) \n",
    "        \n",
    "    del SQL_Val_List\n",
    "    del Data    \n",
    "    \n",
    "    ### Limit & Break\n",
    "    if Count == 20:\n",
    "        break\n",
    "        \n",
    "print(f\"\\nAll Done !!! \\nTotal Chunk Load {Count}\")"
   ]
  },
  {
   "cell_type": "markdown",
   "id": "a78418b1",
   "metadata": {},
   "source": [
    "### View Data"
   ]
  },
  {
   "cell_type": "code",
   "execution_count": 8,
   "id": "39324af7",
   "metadata": {},
   "outputs": [
    {
     "name": "stdout",
     "output_type": "stream",
     "text": [
      "Total Record in MySQL DB - 20000\n",
      "\n"
     ]
    },
    {
     "data": {
      "text/html": [
       "<div>\n",
       "<style scoped>\n",
       "    .dataframe tbody tr th:only-of-type {\n",
       "        vertical-align: middle;\n",
       "    }\n",
       "\n",
       "    .dataframe tbody tr th {\n",
       "        vertical-align: top;\n",
       "    }\n",
       "\n",
       "    .dataframe thead th {\n",
       "        text-align: right;\n",
       "    }\n",
       "</style>\n",
       "<table border=\"1\" class=\"dataframe\">\n",
       "  <thead>\n",
       "    <tr style=\"text-align: right;\">\n",
       "      <th></th>\n",
       "      <th>Row_No</th>\n",
       "      <th>NCT_Id</th>\n",
       "      <th>Study_Title</th>\n",
       "      <th>`Condition`</th>\n",
       "      <th>Study_Type</th>\n",
       "      <th>Sponsor_Name</th>\n",
       "      <th>OrgFullName</th>\n",
       "      <th>Number_Enrolled</th>\n",
       "    </tr>\n",
       "  </thead>\n",
       "  <tbody>\n",
       "    <tr>\n",
       "      <th>0</th>\n",
       "      <td>1</td>\n",
       "      <td>NCT05516706</td>\n",
       "      <td>Comparison of Dynamic Stretching and Plyometri...</td>\n",
       "      <td>Sports Physical Therapy</td>\n",
       "      <td>Interventional</td>\n",
       "      <td>Riphah International University</td>\n",
       "      <td>Riphah International University</td>\n",
       "      <td>22</td>\n",
       "    </tr>\n",
       "    <tr>\n",
       "      <th>1</th>\n",
       "      <td>2</td>\n",
       "      <td>NCT05516693</td>\n",
       "      <td>Chewing, Swallowing and Orofacial Motricity in...</td>\n",
       "      <td>Mastication Disorder, Swallowing Disorder, Oro...</td>\n",
       "      <td>Interventional</td>\n",
       "      <td>Centro Universitrio de Anapolis</td>\n",
       "      <td>Centro Universitrio de Anapolis</td>\n",
       "      <td>80</td>\n",
       "    </tr>\n",
       "    <tr>\n",
       "      <th>2</th>\n",
       "      <td>3</td>\n",
       "      <td>NCT05516680</td>\n",
       "      <td>Effects and Central Mechanism of Electroacupun...</td>\n",
       "      <td>Poststroke Depression, Healthy</td>\n",
       "      <td>Interventional</td>\n",
       "      <td>The Affiliated Nanjing Drum Tower Hospital of ...</td>\n",
       "      <td>The Affiliated Nanjing Drum Tower Hospital of ...</td>\n",
       "      <td>64</td>\n",
       "    </tr>\n",
       "    <tr>\n",
       "      <th>3</th>\n",
       "      <td>4</td>\n",
       "      <td>NCT05516667</td>\n",
       "      <td>Pilot Prospective Cohort of Patients With Alzh...</td>\n",
       "      <td>Alzheimer Disease</td>\n",
       "      <td>Observational</td>\n",
       "      <td>University Hospital, Toulouse</td>\n",
       "      <td>University Hospital, Toulouse</td>\n",
       "      <td>750</td>\n",
       "    </tr>\n",
       "    <tr>\n",
       "      <th>4</th>\n",
       "      <td>5</td>\n",
       "      <td>NCT05516654</td>\n",
       "      <td>Type VI Secretion System in Klebsiella Pneumoniae</td>\n",
       "      <td>Isolation and Identification of K. Pneumoniae ...</td>\n",
       "      <td>Observational</td>\n",
       "      <td>Sohag University</td>\n",
       "      <td>Sohag University</td>\n",
       "      <td>70</td>\n",
       "    </tr>\n",
       "  </tbody>\n",
       "</table>\n",
       "</div>"
      ],
      "text/plain": [
       "   Row_No       NCT_Id                                        Study_Title  \\\n",
       "0       1  NCT05516706  Comparison of Dynamic Stretching and Plyometri...   \n",
       "1       2  NCT05516693  Chewing, Swallowing and Orofacial Motricity in...   \n",
       "2       3  NCT05516680  Effects and Central Mechanism of Electroacupun...   \n",
       "3       4  NCT05516667  Pilot Prospective Cohort of Patients With Alzh...   \n",
       "4       5  NCT05516654  Type VI Secretion System in Klebsiella Pneumoniae   \n",
       "\n",
       "                                         `Condition`      Study_Type  \\\n",
       "0                            Sports Physical Therapy  Interventional   \n",
       "1  Mastication Disorder, Swallowing Disorder, Oro...  Interventional   \n",
       "2                     Poststroke Depression, Healthy  Interventional   \n",
       "3                                  Alzheimer Disease   Observational   \n",
       "4  Isolation and Identification of K. Pneumoniae ...   Observational   \n",
       "\n",
       "                                        Sponsor_Name  \\\n",
       "0                    Riphah International University   \n",
       "1                    Centro Universitrio de Anapolis   \n",
       "2  The Affiliated Nanjing Drum Tower Hospital of ...   \n",
       "3                      University Hospital, Toulouse   \n",
       "4                                   Sohag University   \n",
       "\n",
       "                                         OrgFullName   Number_Enrolled  \n",
       "0                    Riphah International University                22  \n",
       "1                    Centro Universitrio de Anapolis                80  \n",
       "2  The Affiliated Nanjing Drum Tower Hospital of ...                64  \n",
       "3                      University Hospital, Toulouse               750  \n",
       "4                                   Sohag University                70  "
      ]
     },
     "execution_count": 8,
     "metadata": {},
     "output_type": "execute_result"
    }
   ],
   "source": [
    "MySQL_Cursor.execute(f\"SELECT COUNT(*) from {Schema}.{Table}\")\n",
    "Total_Records_In_DB = MySQL_Cursor.fetchall()[0][0]\n",
    "print(f\"Total Record in MySQL DB - {Total_Records_In_DB}\\n\")\n",
    "\n",
    "MySQL_Cursor.execute(f\"SELECT * from {Schema}.{Table} LIMIT 5\")\n",
    "MySQL_TBL_Rows = MySQL_Cursor.fetchall()\n",
    "Scraped_Data = pd.DataFrame(MySQL_TBL_Rows, columns= SQL_CLM.split(\",\"))\n",
    "Scraped_Data"
   ]
  },
  {
   "cell_type": "markdown",
   "id": "d8634190",
   "metadata": {},
   "source": [
    "### Close MySQL DB Connection"
   ]
  },
  {
   "cell_type": "code",
   "execution_count": 9,
   "id": "f4d2b01f",
   "metadata": {},
   "outputs": [],
   "source": [
    "MySQL_Cursor.close()\n",
    "MySQL_Connection.close()"
   ]
  },
  {
   "cell_type": "code",
   "execution_count": null,
   "id": "56670ec0",
   "metadata": {},
   "outputs": [],
   "source": []
  },
  {
   "cell_type": "code",
   "execution_count": null,
   "id": "e47fd6ea",
   "metadata": {},
   "outputs": [],
   "source": []
  }
 ],
 "metadata": {
  "kernelspec": {
   "display_name": "Python 3 (ipykernel)",
   "language": "python",
   "name": "python3"
  },
  "language_info": {
   "codemirror_mode": {
    "name": "ipython",
    "version": 3
   },
   "file_extension": ".py",
   "mimetype": "text/x-python",
   "name": "python",
   "nbconvert_exporter": "python",
   "pygments_lexer": "ipython3",
   "version": "3.9.7"
  }
 },
 "nbformat": 4,
 "nbformat_minor": 5
}
